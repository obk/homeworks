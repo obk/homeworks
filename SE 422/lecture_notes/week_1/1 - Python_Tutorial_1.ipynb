{
 "cells": [
  {
   "cell_type": "markdown",
   "metadata": {
    "id": "hR-SmPfaaknS"
   },
   "source": [
    "# Python Tutorial 1"
   ]
  },
  {
   "cell_type": "markdown",
   "metadata": {
    "id": "MFgQ12yiaknY"
   },
   "source": [
    "### Introduction"
   ]
  },
  {
   "cell_type": "markdown",
   "metadata": {
    "id": "2FmV2tE6aknZ"
   },
   "source": [
    "In this tutorial, we will cover:\n",
    "\n",
    "* Basic Python: Basic data types (Containers, Lists, Dictionaries, Sets, Tuples), Functions, Classes"
   ]
  },
  {
   "cell_type": "markdown",
   "metadata": {
    "id": "deFcXTjtakna"
   },
   "source": [
    "## Basics of Python"
   ]
  },
  {
   "cell_type": "markdown",
   "metadata": {
    "id": "hAv2gABiakna"
   },
   "source": [
    "Python is a high-level, dynamically typed multiparadigm programming language. Python code is often said to be almost like pseudocode, since it allows you to express very powerful ideas in very few lines of code while being very readable. As an example, here is an implementation of the classic quicksort algorithm in Python:"
   ]
  },
  {
   "cell_type": "markdown",
   "metadata": {
    "id": "VsTdBfW8aknb"
   },
   "source": [
    "### Python versions"
   ]
  },
  {
   "cell_type": "markdown",
   "metadata": {
    "id": "GkRHEFiTaknb"
   },
   "source": [
    "For this class, all code will use Python 3.7\n",
    "\n",
    "You can check your Python version at the command line by running `python --version`."
   ]
  },
  {
   "cell_type": "code",
   "execution_count": 1,
   "metadata": {
    "id": "OxC6ZJygaknd",
    "executionInfo": {
     "status": "ok",
     "timestamp": 1660904049666,
     "user_tz": -180,
     "elapsed": 7,
     "user": {
      "displayName": "Bahadır Kundak",
      "userId": "18192063378785900586"
     }
    },
    "outputId": "95cbe490-986d-4573-8a0c-9c42b36873fa",
    "colab": {
     "base_uri": "https://localhost:8080/"
    }
   },
   "outputs": [
    {
     "name": "stdout",
     "output_type": "stream",
     "text": [
      "3.10.7\n"
     ]
    }
   ],
   "source": [
    "from platform import python_version\n",
    "\n",
    "print(python_version())"
   ]
  },
  {
   "cell_type": "markdown",
   "metadata": {
    "id": "vUOIFljUaknf"
   },
   "source": [
    "### Basic data types"
   ]
  },
  {
   "cell_type": "markdown",
   "metadata": {
    "id": "fdFRJUx4aknh"
   },
   "source": [
    "#### Numbers"
   ]
  },
  {
   "cell_type": "markdown",
   "metadata": {
    "id": "5EM6XQX5akni"
   },
   "source": [
    "Integers and floats work as you would expect from other languages:"
   ]
  },
  {
   "cell_type": "code",
   "execution_count": 2,
   "metadata": {
    "id": "f8wicx2Xakni",
    "executionInfo": {
     "status": "ok",
     "timestamp": 1660904069644,
     "user_tz": -180,
     "elapsed": 6,
     "user": {
      "displayName": "Bahadır Kundak",
      "userId": "18192063378785900586"
     }
    },
    "outputId": "a7040dc9-6c51-459d-81e1-d2b39d14a7fe",
    "colab": {
     "base_uri": "https://localhost:8080/"
    }
   },
   "outputs": [
    {
     "name": "stdout",
     "output_type": "stream",
     "text": [
      "3 <class 'int'>\n"
     ]
    }
   ],
   "source": [
    "x = 3\n",
    "print(x, type(x))"
   ]
  },
  {
   "cell_type": "code",
   "execution_count": 3,
   "metadata": {
    "id": "_2nEF6gHaknj",
    "executionInfo": {
     "status": "ok",
     "timestamp": 1660904070035,
     "user_tz": -180,
     "elapsed": 22,
     "user": {
      "displayName": "Bahadır Kundak",
      "userId": "18192063378785900586"
     }
    },
    "outputId": "b0dfa3aa-96f2-43d9-82dd-2ec4d44b9887",
    "colab": {
     "base_uri": "https://localhost:8080/"
    }
   },
   "outputs": [
    {
     "name": "stdout",
     "output_type": "stream",
     "text": [
      "6\n"
     ]
    }
   ],
   "source": [
    "y=x + 3\n",
    "print(y)\n"
   ]
  },
  {
   "cell_type": "code",
   "execution_count": 4,
   "metadata": {
    "id": "RsVJc005aknj",
    "executionInfo": {
     "status": "ok",
     "timestamp": 1660904070036,
     "user_tz": -180,
     "elapsed": 20,
     "user": {
      "displayName": "Bahadır Kundak",
      "userId": "18192063378785900586"
     }
    }
   },
   "outputs": [],
   "source": [
    "x+=1"
   ]
  },
  {
   "cell_type": "code",
   "execution_count": 5,
   "metadata": {
    "id": "SX-QNkMHaknk",
    "executionInfo": {
     "status": "ok",
     "timestamp": 1660904070036,
     "user_tz": -180,
     "elapsed": 19,
     "user": {
      "displayName": "Bahadır Kundak",
      "userId": "18192063378785900586"
     }
    },
    "outputId": "49bab7c7-4065-4d6f-c056-60d0feff76e4",
    "colab": {
     "base_uri": "https://localhost:8080/"
    }
   },
   "outputs": [
    {
     "name": "stdout",
     "output_type": "stream",
     "text": [
      "4\n",
      "6\n"
     ]
    }
   ],
   "source": [
    "print(x)\n",
    "print(y)"
   ]
  },
  {
   "cell_type": "code",
   "execution_count": 6,
   "metadata": {
    "id": "Ey5_DZwPaknk",
    "executionInfo": {
     "status": "ok",
     "timestamp": 1660904070037,
     "user_tz": -180,
     "elapsed": 16,
     "user": {
      "displayName": "Bahadır Kundak",
      "userId": "18192063378785900586"
     }
    },
    "outputId": "dfe1605a-1282-446b-b49c-d17b7fdc8bca",
    "colab": {
     "base_uri": "https://localhost:8080/"
    }
   },
   "outputs": [
    {
     "name": "stdout",
     "output_type": "stream",
     "text": [
      "5\n",
      "3\n",
      "8\n",
      "16\n",
      "2.0\n",
      "2\n",
      "1\n"
     ]
    }
   ],
   "source": [
    "#Arithmetic Operators\n",
    "\n",
    "print(x + 1)   # Addition\n",
    "print(x - 1)   # Subtraction\n",
    "print(x * 2)   # Multiplication\n",
    "print(x ** 2)  # Exponentiation\n",
    "print (x / 2)\n",
    "print (x//2)\n",
    "print (x%3)"
   ]
  },
  {
   "cell_type": "code",
   "execution_count": 7,
   "metadata": {
    "id": "vkyW6KCdaknl",
    "executionInfo": {
     "status": "ok",
     "timestamp": 1660904070510,
     "user_tz": -180,
     "elapsed": 485,
     "user": {
      "displayName": "Bahadır Kundak",
      "userId": "18192063378785900586"
     }
    },
    "outputId": "1ffe6010-0e13-4687-d9c1-4e9d4c44ae18",
    "colab": {
     "base_uri": "https://localhost:8080/"
    }
   },
   "outputs": [
    {
     "name": "stdout",
     "output_type": "stream",
     "text": [
      "4\n",
      "5\n",
      "10\n",
      "5.0\n"
     ]
    }
   ],
   "source": [
    "print(x)\n",
    "#  Assignment Operators\n",
    "x += 1\n",
    "print(x)  \n",
    "x *= 2\n",
    "print(x) \n",
    "x /=2\n",
    "print(x)"
   ]
  },
  {
   "cell_type": "code",
   "execution_count": 8,
   "metadata": {
    "scrolled": true,
    "id": "53u8DbGCaknm",
    "executionInfo": {
     "status": "ok",
     "timestamp": 1660904070510,
     "user_tz": -180,
     "elapsed": 41,
     "user": {
      "displayName": "Bahadır Kundak",
      "userId": "18192063378785900586"
     }
    },
    "outputId": "c7af3f49-ff09-4431-bdeb-7ab8243047b2",
    "colab": {
     "base_uri": "https://localhost:8080/"
    }
   },
   "outputs": [
    {
     "name": "stdout",
     "output_type": "stream",
     "text": [
      "a and b are equals\n"
     ]
    }
   ],
   "source": [
    "#Comparison Operators\n",
    "a, b= 10,5\n",
    "c=int(a)\n",
    "if(a>=b):\n",
    "    print(\"a and b are equals\")\n",
    "else:\n",
    "    print(\"a and b are not equals\")\n",
    "\n",
    "\n"
   ]
  },
  {
   "cell_type": "code",
   "execution_count": 9,
   "metadata": {
    "id": "n1wXCsucaknm",
    "executionInfo": {
     "status": "ok",
     "timestamp": 1660904070511,
     "user_tz": -180,
     "elapsed": 37,
     "user": {
      "displayName": "Bahadır Kundak",
      "userId": "18192063378785900586"
     }
    },
    "outputId": "b1186b15-c74b-4683-80a5-829038618324",
    "colab": {
     "base_uri": "https://localhost:8080/"
    }
   },
   "outputs": [
    {
     "name": "stdout",
     "output_type": "stream",
     "text": [
      "a\n"
     ]
    }
   ],
   "source": [
    "print (\"a\" if(a >= b) else \"b\")"
   ]
  },
  {
   "cell_type": "code",
   "execution_count": 29,
   "metadata": {
    "id": "i0xqb3_2aknn",
    "executionInfo": {
     "status": "ok",
     "timestamp": 1660904070511,
     "user_tz": -180,
     "elapsed": 35,
     "user": {
      "displayName": "Bahadır Kundak",
      "userId": "18192063378785900586"
     }
    },
    "outputId": "4aef2dc1-5ab6-45c3-d5f1-213e58b128c7",
    "colab": {
     "base_uri": "https://localhost:8080/"
    }
   },
   "outputs": [
    {
     "name": "stdout",
     "output_type": "stream",
     "text": [
      "a  0b111100\n",
      "b  0b1101\n",
      "c  0b1101\n",
      "13\n"
     ]
    }
   ],
   "source": [
    "# decimal and binary\n",
    "\n",
    "a = bin(60)\n",
    "print(\"a \",a)\n",
    "b = bin(13)\n",
    "print(\"b \",b)\n",
    "c= a and b\n",
    "print(\"c \",c)\n",
    "print( int(c,2) )\n"
   ]
  },
  {
   "cell_type": "code",
   "execution_count": 11,
   "metadata": {
    "id": "GINakp44akno",
    "executionInfo": {
     "status": "ok",
     "timestamp": 1660904070511,
     "user_tz": -180,
     "elapsed": 32,
     "user": {
      "displayName": "Bahadır Kundak",
      "userId": "18192063378785900586"
     }
    },
    "outputId": "7c4243f1-a9c2-4705-aa29-44d11c4190bb",
    "colab": {
     "base_uri": "https://localhost:8080/"
    }
   },
   "outputs": [
    {
     "name": "stdout",
     "output_type": "stream",
     "text": [
      "<class 'float'>\n",
      "5.0 6.0 10.0 25.0 2.0 1.0\n"
     ]
    }
   ],
   "source": [
    "y = 5.0\n",
    "print(type(y)) # Prints \"<class 'float'>\"\n",
    "print(y, y + 1, y * 2, y ** 2, y//2, y%2) # Prints \"2.5 3.5 5.0 6.25\""
   ]
  },
  {
   "cell_type": "code",
   "execution_count": 12,
   "metadata": {
    "id": "Q2IFbQN2akno",
    "executionInfo": {
     "status": "ok",
     "timestamp": 1660904070512,
     "user_tz": -180,
     "elapsed": 30,
     "user": {
      "displayName": "Bahadır Kundak",
      "userId": "18192063378785900586"
     }
    },
    "outputId": "4ed6a629-ad4f-4c54-8864-5f9a35ac68dc",
    "colab": {
     "base_uri": "https://localhost:8080/"
    }
   },
   "outputs": [
    {
     "name": "stdout",
     "output_type": "stream",
     "text": [
      "<class 'float'>\n"
     ]
    }
   ],
   "source": [
    "x=5.0\n",
    "y=2\n",
    "z=x%y\n",
    "print(type(z))"
   ]
  },
  {
   "cell_type": "markdown",
   "metadata": {
    "id": "3xFUV0JUakno"
   },
   "source": [
    "#### Booleans"
   ]
  },
  {
   "cell_type": "markdown",
   "metadata": {
    "id": "6H7-RZNtaknp"
   },
   "source": [
    "Python implements all of the usual operators for Boolean logic, but uses English words rather than symbols (`&`, `|`, etc.):"
   ]
  },
  {
   "cell_type": "code",
   "execution_count": 13,
   "metadata": {
    "id": "-JY4kq4Raknp",
    "executionInfo": {
     "status": "ok",
     "timestamp": 1660904070513,
     "user_tz": -180,
     "elapsed": 29,
     "user": {
      "displayName": "Bahadır Kundak",
      "userId": "18192063378785900586"
     }
    },
    "outputId": "e32dabc3-fc68-4d0c-9217-30d7e7888388",
    "colab": {
     "base_uri": "https://localhost:8080/"
    }
   },
   "outputs": [
    {
     "name": "stdout",
     "output_type": "stream",
     "text": [
      "<class 'bool'>\n"
     ]
    }
   ],
   "source": [
    "t, f = True, False\n",
    "print(type(t)) # Prints \"<class 'bool'>\""
   ]
  },
  {
   "cell_type": "markdown",
   "metadata": {
    "id": "U6pLxwlKaknp"
   },
   "source": [
    "Now let's look at the operations:"
   ]
  },
  {
   "cell_type": "code",
   "execution_count": 14,
   "metadata": {
    "scrolled": true,
    "id": "j0RAGgs-aknq",
    "executionInfo": {
     "status": "ok",
     "timestamp": 1660904070514,
     "user_tz": -180,
     "elapsed": 27,
     "user": {
      "displayName": "Bahadır Kundak",
      "userId": "18192063378785900586"
     }
    },
    "outputId": "b4ef37ea-f3e8-46a8-fbc6-c97bad7331f1",
    "colab": {
     "base_uri": "https://localhost:8080/"
    }
   },
   "outputs": [
    {
     "name": "stdout",
     "output_type": "stream",
     "text": [
      "False\n",
      "True\n",
      "False\n",
      "True\n"
     ]
    }
   ],
   "source": [
    "print(t & f) # Logical AND;\n",
    "print(t | f)  # Logical OR;\n",
    "print(not t)   # Logical NOT;\n",
    "print(t != f)  # Logical XOR;"
   ]
  },
  {
   "cell_type": "markdown",
   "metadata": {
    "id": "wMKrUM-Zaknq"
   },
   "source": [
    "#### Strings"
   ]
  },
  {
   "cell_type": "code",
   "execution_count": 15,
   "metadata": {
    "id": "UNB5ol9Caknq",
    "executionInfo": {
     "status": "ok",
     "timestamp": 1660904070514,
     "user_tz": -180,
     "elapsed": 25,
     "user": {
      "displayName": "Bahadır Kundak",
      "userId": "18192063378785900586"
     }
    },
    "outputId": "1bdf24c3-886c-459c-8d51-fa847af1d2ac",
    "colab": {
     "base_uri": "https://localhost:8080/"
    }
   },
   "outputs": [
    {
     "name": "stdout",
     "output_type": "stream",
     "text": [
      "hello 5\n"
     ]
    }
   ],
   "source": [
    "hello = 'hello'   # String literals can use single quotes\n",
    "world = \"world\"   # or double quotes; it does not matter.\n",
    "print(hello, len(hello))"
   ]
  },
  {
   "cell_type": "code",
   "execution_count": 16,
   "metadata": {
    "id": "Yq5azdENaknr",
    "executionInfo": {
     "status": "ok",
     "timestamp": 1660904070514,
     "user_tz": -180,
     "elapsed": 22,
     "user": {
      "displayName": "Bahadır Kundak",
      "userId": "18192063378785900586"
     }
    },
    "outputId": "216555ab-5dd9-4fb3-aa31-e96648df0d19",
    "colab": {
     "base_uri": "https://localhost:8080/"
    }
   },
   "outputs": [
    {
     "name": "stdout",
     "output_type": "stream",
     "text": [
      "hello world\n"
     ]
    }
   ],
   "source": [
    "hw = hello + ' ' + world  # String concatenation\n",
    "print(hw)  # Prints \"hello world\""
   ]
  },
  {
   "cell_type": "code",
   "execution_count": 17,
   "metadata": {
    "id": "YJ_f1J4Baknr",
    "executionInfo": {
     "status": "ok",
     "timestamp": 1660904070514,
     "user_tz": -180,
     "elapsed": 20,
     "user": {
      "displayName": "Bahadır Kundak",
      "userId": "18192063378785900586"
     }
    },
    "outputId": "7c19f4ca-58b9-43dd-d44a-53a1664cfd81",
    "colab": {
     "base_uri": "https://localhost:8080/"
    }
   },
   "outputs": [
    {
     "name": "stdout",
     "output_type": "stream",
     "text": [
      "My first output : world second:   third: hello\n"
     ]
    }
   ],
   "source": [
    "hw12 = 'My first output : {2} second: {1} third: {0}'.format(hello, \" \", world)\n",
    "print(hw12)  # prints \"hello world 12\""
   ]
  },
  {
   "cell_type": "markdown",
   "metadata": {
    "id": "2_HMavc3aknr"
   },
   "source": [
    "String objects have a bunch of useful methods; for example:"
   ]
  },
  {
   "cell_type": "code",
   "execution_count": 18,
   "metadata": {
    "scrolled": true,
    "id": "5nAUjYk4akns",
    "executionInfo": {
     "status": "ok",
     "timestamp": 1660904070515,
     "user_tz": -180,
     "elapsed": 19,
     "user": {
      "displayName": "Bahadır Kundak",
      "userId": "18192063378785900586"
     }
    },
    "outputId": "417cfe12-2ff9-45eb-8ad4-2f06638691ec",
    "colab": {
     "base_uri": "https://localhost:8080/"
    }
   },
   "outputs": [
    {
     "name": "stdout",
     "output_type": "stream",
     "text": [
      "Hello\n",
      "HELLO\n",
      "                    hello\n",
      "hello\n",
      "he(ell)(ell)o\n",
      "world\n"
     ]
    }
   ],
   "source": [
    "s = \"hello\"\n",
    "print(s.capitalize())  # Capitalize the first character; prints \"Hello\"\n",
    "print(s.upper())       # Convert a string to uppercase; prints \"HELLO\"\n",
    "print(s.rjust(25))      # Right-justify a string, padding with spaces; prints \"  hello\"\n",
    "print(s.center(5))     # Center a string, padding with spaces; prints \" hello \"\n",
    "print(s.replace('l', '(ell)'))  # Replace all instances of one substring with another;\n",
    "                               # prints \"he(ell)(ell)o\"\n",
    "print('  world '.strip())  # Strip leading and trailing whitespace; prints \"world\""
   ]
  },
  {
   "cell_type": "markdown",
   "metadata": {
    "id": "G1Ffl90uakns"
   },
   "source": [
    "You can find a list of all string methods in the [documentation](https://docs.python.org/3/library/stdtypes.html#string-methods)."
   ]
  },
  {
   "cell_type": "markdown",
   "metadata": {
    "id": "iHrqQuUeakns"
   },
   "source": [
    "### Containers"
   ]
  },
  {
   "cell_type": "markdown",
   "metadata": {
    "id": "D166xWhlakns"
   },
   "source": [
    "Python includes several built-in container types: lists, dictionaries, sets, and tuples."
   ]
  },
  {
   "cell_type": "markdown",
   "metadata": {
    "id": "SwC6qB3Naknt"
   },
   "source": [
    "#### Lists"
   ]
  },
  {
   "cell_type": "markdown",
   "metadata": {
    "id": "vxzJ0bckaknt"
   },
   "source": [
    "A `list` is the Python equivalent of an array, but is resizeable and can contain elements of different types:"
   ]
  },
  {
   "cell_type": "code",
   "execution_count": 19,
   "metadata": {
    "id": "AUe6Tcniaknt",
    "executionInfo": {
     "status": "ok",
     "timestamp": 1660904083957,
     "user_tz": -180,
     "elapsed": 330,
     "user": {
      "displayName": "Bahadır Kundak",
      "userId": "18192063378785900586"
     }
    },
    "outputId": "385fd6c4-06cf-4231-da25-3e5dda6470bc",
    "colab": {
     "base_uri": "https://localhost:8080/"
    }
   },
   "outputs": [
    {
     "name": "stdout",
     "output_type": "stream",
     "text": [
      "[3, 1, 2, 10, 4, 'hello', 4.5, [1, 2]]\n",
      "2\n",
      "3\n"
     ]
    }
   ],
   "source": [
    "xs = [3, 1, 2, 10,4,\"hello\", 4.5,[1,2]]   # Create a list\n",
    "\n",
    "print(xs)\n",
    "print(xs[2])\n",
    "print(xs[-len(xs)])     # Negative indices count from the end of the list; prints \"2\""
   ]
  },
  {
   "cell_type": "code",
   "execution_count": 20,
   "metadata": {
    "id": "PEVYlSjaaknu",
    "executionInfo": {
     "status": "ok",
     "timestamp": 1660904084354,
     "user_tz": -180,
     "elapsed": 25,
     "user": {
      "displayName": "Bahadır Kundak",
      "userId": "18192063378785900586"
     }
    },
    "outputId": "876fa4f3-9f51-4b82-85c9-56cc0181b8b4",
    "colab": {
     "base_uri": "https://localhost:8080/"
    }
   },
   "outputs": [
    {
     "name": "stdout",
     "output_type": "stream",
     "text": [
      "[3, 1, 2, 10, 4, 'hello', 4.5, [1, 2], 'foonew']\n"
     ]
    }
   ],
   "source": [
    "xs.append('foonew')   # Lists can contain elements of different types\n",
    "print(xs)"
   ]
  },
  {
   "cell_type": "code",
   "execution_count": 21,
   "metadata": {
    "id": "3-U5Eppxaknu",
    "executionInfo": {
     "status": "ok",
     "timestamp": 1660904084356,
     "user_tz": -180,
     "elapsed": 26,
     "user": {
      "displayName": "Bahadır Kundak",
      "userId": "18192063378785900586"
     }
    },
    "outputId": "824478a4-2e80-478d-8a9d-90b57e1cbc8e",
    "colab": {
     "base_uri": "https://localhost:8080/"
    }
   },
   "outputs": [
    {
     "name": "stdout",
     "output_type": "stream",
     "text": [
      "[3, 'mynew', 1, 2, 10, 4, 'hello', 4.5, [1, 2], 'foonew']\n"
     ]
    }
   ],
   "source": [
    "xs.insert(1,\"mynew\")\n",
    "print(xs)"
   ]
  },
  {
   "cell_type": "code",
   "execution_count": 22,
   "metadata": {
    "id": "46Vod3uYaknu",
    "executionInfo": {
     "status": "ok",
     "timestamp": 1660904084356,
     "user_tz": -180,
     "elapsed": 22,
     "user": {
      "displayName": "Bahadır Kundak",
      "userId": "18192063378785900586"
     }
    },
    "outputId": "73684e11-19e1-4c17-d327-9f3604cae8d4",
    "colab": {
     "base_uri": "https://localhost:8080/"
    }
   },
   "outputs": [
    {
     "name": "stdout",
     "output_type": "stream",
     "text": [
      "foonew\n",
      "[3, 'mynew', 1, 2, 10, 4, 'hello', 4.5, [1, 2]]\n"
     ]
    }
   ],
   "source": [
    "print(xs.pop())\n",
    "print(xs)"
   ]
  },
  {
   "cell_type": "code",
   "execution_count": 23,
   "metadata": {
    "id": "7XhcnvEeaknu",
    "executionInfo": {
     "status": "ok",
     "timestamp": 1660904084357,
     "user_tz": -180,
     "elapsed": 20,
     "user": {
      "displayName": "Bahadır Kundak",
      "userId": "18192063378785900586"
     }
    },
    "outputId": "e44c5e67-5f75-4244-fbd8-47b5acc5e06c",
    "colab": {
     "base_uri": "https://localhost:8080/"
    }
   },
   "outputs": [
    {
     "name": "stdout",
     "output_type": "stream",
     "text": [
      "[3, 'mynew', 1, 2, 10, 4, 'hello', 4.5, [1, 2]]\n",
      "[]\n"
     ]
    }
   ],
   "source": [
    "#print(xs)\n",
    "#print(xs.remove(10))\n",
    "print(xs)\n",
    "xs.clear()\n",
    "print(xs)"
   ]
  },
  {
   "cell_type": "code",
   "execution_count": 24,
   "metadata": {
    "id": "Dw7FvZ6Qaknv",
    "executionInfo": {
     "status": "ok",
     "timestamp": 1660904084357,
     "user_tz": -180,
     "elapsed": 17,
     "user": {
      "displayName": "Bahadır Kundak",
      "userId": "18192063378785900586"
     }
    },
    "outputId": "3034d7ce-7ce6-4acf-94ab-21f5d006c93a",
    "colab": {
     "base_uri": "https://localhost:8080/"
    }
   },
   "outputs": [
    {
     "name": "stdout",
     "output_type": "stream",
     "text": [
      "['bar']\n"
     ]
    }
   ],
   "source": [
    "xs.append('bar') # Add a new element to the end of the list\n",
    "print(xs)"
   ]
  },
  {
   "cell_type": "code",
   "execution_count": 25,
   "metadata": {
    "id": "TxlGoh6Jaknv",
    "executionInfo": {
     "status": "ok",
     "timestamp": 1660904084357,
     "user_tz": -180,
     "elapsed": 13,
     "user": {
      "displayName": "Bahadır Kundak",
      "userId": "18192063378785900586"
     }
    },
    "outputId": "e2a945ed-ae52-4226-8e28-fa8ef2507693",
    "colab": {
     "base_uri": "https://localhost:8080/"
    }
   },
   "outputs": [
    {
     "name": "stdout",
     "output_type": "stream",
     "text": [
      "bar []\n"
     ]
    }
   ],
   "source": [
    "x = xs.pop()     # Remove and return the last element of the list\n",
    "print(x, xs) "
   ]
  },
  {
   "cell_type": "markdown",
   "metadata": {
    "id": "9JwR_ufhaknw"
   },
   "source": [
    "You can find all of the methods of `list` objects in the [documentation](https://docs.python.org/3/tutorial/datastructures.html#more-on-lists)."
   ]
  },
  {
   "cell_type": "markdown",
   "metadata": {
    "id": "aorA-TO7aknw"
   },
   "source": [
    "#### Slicing"
   ]
  },
  {
   "cell_type": "markdown",
   "metadata": {
    "id": "CmU3AtYFaknw"
   },
   "source": [
    "In addition to accessing `list` elements one at a time, Python provides concise syntax to access sublists; this is known as slicing:"
   ]
  },
  {
   "cell_type": "code",
   "execution_count": 26,
   "metadata": {
    "id": "BmqSrWppaknx",
    "executionInfo": {
     "status": "ok",
     "timestamp": 1660904088491,
     "user_tz": -180,
     "elapsed": 401,
     "user": {
      "displayName": "Bahadır Kundak",
      "userId": "18192063378785900586"
     }
    },
    "outputId": "50b8ee25-b1bc-4033-944a-139e3fce0b22",
    "colab": {
     "base_uri": "https://localhost:8080/"
    }
   },
   "outputs": [
    {
     "name": "stdout",
     "output_type": "stream",
     "text": [
      "[0, 1, 2, 3, 4]\n",
      "[2, 3]\n",
      "[2, 3, 4]\n",
      "[0, 1]\n",
      "[0, 1, 2, 3, 4]\n",
      "[0, 1, 2, 3]\n",
      "[0, 1, 8, 9, 4]\n"
     ]
    }
   ],
   "source": [
    "nums = list(range(5))\n",
    "\n",
    "print(nums)         # Prints \"[0, 1, 2, 3, 4]\"\n",
    "print(nums[2:4])    # Get a slice from index 2 to 4 (exclusive); prints \"[2, 3]\"\n",
    "print(nums[2:])     # Get a slice from index 2 to the end; prints \"[2, 3, 4]\"\n",
    "print(nums[:2])     # Get a slice from the start to index 2 (exclusive); prints \"[0, 1]\"\n",
    "print(nums[:])      # Get a slice of the whole list; prints [\"0, 1, 2, 3, 4]\"\n",
    "print(nums[:-1])    # Slice indices can be negative; prints [\"0, 1, 2, 3]\"\n",
    "nums[2:4] = [8, 9] # Assign a new sublist to a slice\n",
    "print(nums)         # Prints \"[0, 1, 8, 9, 4]\""
   ]
  },
  {
   "cell_type": "markdown",
   "metadata": {
    "id": "FsLVZ6JEaknx"
   },
   "source": [
    "# Homeworks"
   ]
  },
  {
   "cell_type": "code",
   "execution_count": 27,
   "metadata": {
    "id": "vJCKp9bvaknx"
   },
   "outputs": [],
   "source": [
    "# 1. Write a Python program to find all the values in a list are greater than a specified number.\n",
    "list1 = [220, 330, 500, 150]\n",
    "list2 = [12, 17, 21]"
   ]
  },
  {
   "cell_type": "code",
   "execution_count": 28,
   "metadata": {
    "id": "gsLKzhdRaknx"
   },
   "outputs": [],
   "source": [
    "# 2. Write a Python program to find the list in a list of lists whose sum of elements is the highest.\n",
    "list3 = [[1,2,3], [4,5,6], [10,11,12], [7,8,9]]"
   ]
  }
 ],
 "metadata": {
  "kernelspec": {
   "display_name": "Python 3",
   "language": "python",
   "name": "python3"
  },
  "language_info": {
   "codemirror_mode": {
    "name": "ipython",
    "version": 3
   },
   "file_extension": ".py",
   "mimetype": "text/x-python",
   "name": "python",
   "nbconvert_exporter": "python",
   "pygments_lexer": "ipython3",
   "version": "3.7.6"
  },
  "pycharm": {
   "stem_cell": {
    "cell_type": "raw",
    "metadata": {
     "collapsed": false
    },
    "source": []
   }
  },
  "colab": {
   "name": "1 - Python_Tutorial_1.ipynb",
   "provenance": []
  }
 },
 "nbformat": 4,
 "nbformat_minor": 0
}
