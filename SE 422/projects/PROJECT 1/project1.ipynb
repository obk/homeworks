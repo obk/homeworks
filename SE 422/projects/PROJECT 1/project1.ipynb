{
  "nbformat": 4,
  "nbformat_minor": 0,
  "metadata": {
    "file_extension": ".py",
    "kernelspec": {
      "display_name": "Python 3.7.6 64-bit ('base': conda)",
      "language": "python",
      "name": "python37664bitbaseconda577d443e625242c7865f41eec57606b6"
    },
    "language_info": {
      "codemirror_mode": {
        "name": "ipython",
        "version": 3
      },
      "file_extension": ".py",
      "mimetype": "text/x-python",
      "name": "python",
      "nbconvert_exporter": "python",
      "pygments_lexer": "ipython3",
      "version": "3.7.6-final"
    },
    "mimetype": "text/x-python",
    "name": "python",
    "npconvert_exporter": "python",
    "pygments_lexer": "ipython3",
    "version": 3,
    "colab": {
      "name": "Project_1_answer.ipynb",
      "provenance": []
    }
  },
  "cells": [
    {
      "cell_type": "markdown",
      "metadata": {
        "id": "LuUxx5lTskMk"
      },
      "source": [
        "## Assignment 1"
      ]
    },
    {
      "cell_type": "code",
      "metadata": {
        "colab": {
          "base_uri": "https://localhost:8080/"
        },
        "id": "aiPenKasurxn",
        "outputId": "c9b2cf75-6182-4532-edc1-3e439b19ece2"
      },
      "source": [
        "import numpy as np\n",
        "adj_matrix = np.zeros((16,16))\n",
        "#Matrislerde indis 0 dan basladıgı icin tüm indisler 1 azaltılarak friendships_1 olusturulmustur.\n",
        "friendships_1 = [(0, 1),(1,0),(1,2),(2,1),(2,3),(3,2),(3,4),(4,3),(5,3),(3,5),(7,4),(4,7),(5,8),(8,5),(3, 6),(6, 3), (6, 7),(7, 6), (6, 8), (8, 6),(6,9),(9,6),(8,9),(9,8),(7,9),(9,7),(7,10),(10,7),(9,10),(10,9),(8,11),(11,8),(9,11),(11,9),(9,12),(12,9),(9,13),(13,9),(14,12),(12,14),(13,14),(14,13),(15,14),(14,15)]\n",
        "print([i[0] for i in friendships_1],[i[1] for i in friendships_1])\n",
        "i_0 = [i[0] for i in friendships_1]\n",
        "j_0 = [i[1] for i in friendships_1]\n",
        "adj_matrix[i_0, j_0] = 1\n",
        "print(adj_matrix)"
      ],
      "execution_count": 12,
      "outputs": [
        {
          "output_type": "stream",
          "name": "stdout",
          "text": [
            "[0, 1, 1, 2, 2, 3, 3, 4, 5, 3, 7, 4, 5, 8, 3, 6, 6, 7, 6, 8, 6, 9, 8, 9, 7, 9, 7, 10, 9, 10, 8, 11, 9, 11, 9, 12, 9, 13, 14, 12, 13, 14, 15, 14] [1, 0, 2, 1, 3, 2, 4, 3, 3, 5, 4, 7, 8, 5, 6, 3, 7, 6, 8, 6, 9, 6, 9, 8, 9, 7, 10, 7, 10, 9, 11, 8, 11, 9, 12, 9, 13, 9, 12, 14, 14, 13, 14, 15]\n",
            "[[0. 1. 0. 0. 0. 0. 0. 0. 0. 0. 0. 0. 0. 0. 0. 0.]\n",
            " [1. 0. 1. 0. 0. 0. 0. 0. 0. 0. 0. 0. 0. 0. 0. 0.]\n",
            " [0. 1. 0. 1. 0. 0. 0. 0. 0. 0. 0. 0. 0. 0. 0. 0.]\n",
            " [0. 0. 1. 0. 1. 1. 1. 0. 0. 0. 0. 0. 0. 0. 0. 0.]\n",
            " [0. 0. 0. 1. 0. 0. 0. 1. 0. 0. 0. 0. 0. 0. 0. 0.]\n",
            " [0. 0. 0. 1. 0. 0. 0. 0. 1. 0. 0. 0. 0. 0. 0. 0.]\n",
            " [0. 0. 0. 1. 0. 0. 0. 1. 1. 1. 0. 0. 0. 0. 0. 0.]\n",
            " [0. 0. 0. 0. 1. 0. 1. 0. 0. 1. 1. 0. 0. 0. 0. 0.]\n",
            " [0. 0. 0. 0. 0. 1. 1. 0. 0. 1. 0. 1. 0. 0. 0. 0.]\n",
            " [0. 0. 0. 0. 0. 0. 1. 1. 1. 0. 1. 1. 1. 1. 0. 0.]\n",
            " [0. 0. 0. 0. 0. 0. 0. 1. 0. 1. 0. 0. 0. 0. 0. 0.]\n",
            " [0. 0. 0. 0. 0. 0. 0. 0. 1. 1. 0. 0. 0. 0. 0. 0.]\n",
            " [0. 0. 0. 0. 0. 0. 0. 0. 0. 1. 0. 0. 0. 0. 1. 0.]\n",
            " [0. 0. 0. 0. 0. 0. 0. 0. 0. 1. 0. 0. 0. 0. 1. 0.]\n",
            " [0. 0. 0. 0. 0. 0. 0. 0. 0. 0. 0. 0. 1. 1. 0. 1.]\n",
            " [0. 0. 0. 0. 0. 0. 0. 0. 0. 0. 0. 0. 0. 0. 1. 0.]]\n"
          ]
        }
      ]
    },
    {
      "cell_type": "code",
      "metadata": {
        "id": "EhbAn9pj2Z5y"
      },
      "source": [
        "from numpy import linalg as LA\n",
        "#create eigen decomposition w: eigenvalues, v: eigenvectors\n",
        "w,v = LA.eig(adj_matrix)"
      ],
      "execution_count": 13,
      "outputs": []
    },
    {
      "cell_type": "code",
      "metadata": {
        "colab": {
          "base_uri": "https://localhost:8080/"
        },
        "id": "kBgnQuk1-f1s",
        "outputId": "40f5f68f-9a33-4747-9a11-e9de19eb8f0d"
      },
      "source": [
        "from numpy.linalg import inv\n",
        "#Using the square of the adjacency matrix\n",
        "#friends of friends matrix\n",
        "A_F_F = np.dot(adj_matrix,adj_matrix)\n",
        "print(\"Friends of Friends Matrix using the square of the adjacency matrix:\")\n",
        "print(A_F_F)\n",
        "print(\"\")\n",
        "#do not print more than one decimal\n",
        "np.set_printoptions(formatter={'float': lambda x: \"{0:0.0f}\".format(x)})\n",
        "np.array(-0)==np.array(+0) \n",
        "\n",
        "#Using the square of the eigenvalues in the eigenvalue decomposition\n",
        "#friends of friends matrix\n",
        "#calculate eigenvalues\n",
        "eigen_value = np.zeros((16,16))\n",
        "i_0 = [i for i in range(16)]\n",
        "j_0 = [i for i in range(16)]\n",
        "eigen_value[i_0, j_0] = w\n",
        "\n",
        "#UNCOMMENT TO SEE EIGENVALUES AND EIGENVECTORS\n",
        "#print(\"Eigenvalues: \")\n",
        "#print(eigen_value)\n",
        "eig_diag= np.diag(eigen_value)\n",
        "#print(\"Diagonal of Eigenvalues\")\n",
        "#print(eig_diag)\n",
        "\n",
        "#maximum \n",
        "w_max = max(eig_diag)\n",
        "#minimum\n",
        "w_min = min(eig_diag)\n",
        "#print min and max\n",
        "print(\"Largest Eigenvalue: \")\n",
        "print(w_max)\n",
        "print(\"\")\n",
        "print(\"Smallest Eigenvalue: \")\n",
        "print(w_min)\n",
        "print(\"\")\n",
        "\n",
        "#check if zero is in an eigenvalue\n",
        "print(\"Check if zero exists in eigenvalues\")\n",
        "value = 0\n",
        "if value in eig_diag[:]:\n",
        "    print(\"Zero exists\")\n",
        "else:\n",
        "    print(\"Zero does not exist\")\n",
        "#Eigenvalues are very close to zero but not quite\n",
        "\n",
        "#square of eigenvalues\n",
        "w2 = np.square(eigen_value)\n",
        "\n",
        "#eigenvectors\n",
        "#UNCOMMENT TO SEE EIGENVALUES AND EIGENVECTORS\n",
        "#print(\"Eigenvectors:\")\n",
        "#print(v)\n",
        "\n",
        "#transpose of the eigenvectors\n",
        "v_t = np.transpose(v)\n",
        "#create the friends of friends matrix using square of the eigenvalues in the eigenvalue decomposition\n",
        "A_F_F_2 = v.dot(w2).dot(v_t)\n",
        "A_F_F_2 = np.where(A_F_F_2<0, 0, A_F_F_2)\n",
        "\n",
        "print(\"\")\n",
        "print(\"Friends of Friends Matrix using square of the eigenvalues in the eigenvalue decomposition:\")\n",
        "print(A_F_F_2)\n",
        "\n",
        "print(\"\")\n",
        "print(\"Two Matrices are Identical, reasoning is below.\")\n",
        "\n",
        "print(\"\")\n",
        "#common friends of 7 and 10 \n",
        "print(\"Number of Common Friends 7 and 10 Have: \")\n",
        "print(A_F_F[6,9])\n",
        "#common friends of 7 and 15 \n",
        "print(\"Number of Common Friends 7 and 15 Have: \")\n",
        "print(A_F_F[6,14])\n",
        "print(A_F_F[6,:])\n",
        "print(adj_matrix[6,:])\n",
        "print(\"\")\n",
        "\n",
        "#Find the neighbors of 7\n",
        "#seventh row\n",
        "arr = (adj_matrix[6,:])\n",
        "result = np.where(arr == 1)\n",
        "print(\"These indexes are neighbors of 7\", result[0], sep='\\n')\n",
        "print(\"\")\n",
        "#Friend-of-a-Friend Recommender:\n",
        "#find the values in A^2\n",
        "arr2 = A_F_F[6,:]\n",
        "#create a list from neighbors\n",
        "arr2_num = (list(enumerate(arr2)))\n",
        "#print their respective values\n",
        "print(\"List of all indexes and their common friends with 7: \")\n",
        "print(arr2_num)\n",
        "arr2_num.pop(3)\n",
        "arr2_num.pop(5)\n",
        "arr2_num.pop(5)\n",
        "arr2_num.pop(5)\n",
        "arr2_num.pop(5)\n",
        "print(\"\")\n",
        "#print the list after removing neighbors and self\n",
        "print(\"List of all indexes and their common friends with 7 after removing neighbors: \")\n",
        "print(arr2_num)\n",
        "#now we can recommend based on this list \n",
        "arr2_num.sort(key=lambda x: x[1], reverse=True)\n",
        "print(\"\")\n",
        "print(\"Recommendation list  sorted by decreasing link prediction score, list does not contain user 7 himself and his neighbors\")\n",
        "print(arr2_num)\n",
        "str_list = \"\"\n",
        "for index in range(11):\n",
        "    str_list += \"user\" + str(arr2_num[index][0]) +  \" > \"\n",
        "str_list = str_list[:-2]\n",
        "print(\"\")\n",
        "print(\"Results of the Recommendation Function: \")\n",
        "print(str_list)"
      ],
      "execution_count": 14,
      "outputs": [
        {
          "output_type": "stream",
          "name": "stdout",
          "text": [
            "Friends of Friends Matrix using the square of the adjacency matrix:\n",
            "[[1. 0. 1. 0. 0. 0. 0. 0. 0. 0. 0. 0. 0. 0. 0. 0.]\n",
            " [0. 2. 0. 1. 0. 0. 0. 0. 0. 0. 0. 0. 0. 0. 0. 0.]\n",
            " [1. 0. 2. 0. 1. 1. 1. 0. 0. 0. 0. 0. 0. 0. 0. 0.]\n",
            " [0. 1. 0. 4. 0. 0. 0. 2. 2. 1. 0. 0. 0. 0. 0. 0.]\n",
            " [0. 0. 1. 0. 2. 1. 2. 0. 0. 1. 1. 0. 0. 0. 0. 0.]\n",
            " [0. 0. 1. 0. 1. 2. 2. 0. 0. 1. 0. 1. 0. 0. 0. 0.]\n",
            " [0. 0. 1. 0. 2. 2. 4. 1. 1. 2. 2. 2. 1. 1. 0. 0.]\n",
            " [0. 0. 0. 2. 0. 0. 1. 4. 2. 2. 1. 1. 1. 1. 0. 0.]\n",
            " [0. 0. 0. 2. 0. 0. 1. 2. 4. 2. 1. 1. 1. 1. 0. 0.]\n",
            " [0. 0. 0. 1. 1. 1. 2. 2. 2. 7. 1. 1. 0. 0. 2. 0.]\n",
            " [0. 0. 0. 0. 1. 0. 2. 1. 1. 1. 2. 1. 1. 1. 0. 0.]\n",
            " [0. 0. 0. 0. 0. 1. 2. 1. 1. 1. 1. 2. 1. 1. 0. 0.]\n",
            " [0. 0. 0. 0. 0. 0. 1. 1. 1. 0. 1. 1. 2. 2. 0. 1.]\n",
            " [0. 0. 0. 0. 0. 0. 1. 1. 1. 0. 1. 1. 2. 2. 0. 1.]\n",
            " [0. 0. 0. 0. 0. 0. 0. 0. 0. 2. 0. 0. 0. 0. 3. 0.]\n",
            " [0. 0. 0. 0. 0. 0. 0. 0. 0. 0. 0. 0. 1. 1. 0. 1.]]\n",
            "\n",
            "Largest Eigenvalue: \n",
            "3.6741883944844647\n",
            "\n",
            "Smallest Eigenvalue: \n",
            "-2.635554087465928\n",
            "\n",
            "Check if zero exists in eigenvalues\n",
            "Zero does not exist\n",
            "\n",
            "Friends of Friends Matrix using square of the eigenvalues in the eigenvalue decomposition:\n",
            "[[1 0 1 0 0 0 0 0 0 0 0 0 0 0 0 0]\n",
            " [0 2 0 1 0 0 0 0 0 0 0 0 0 0 0 0]\n",
            " [1 0 2 0 1 1 1 0 0 0 0 0 0 0 0 0]\n",
            " [0 1 0 4 0 0 0 2 2 1 0 0 0 0 0 0]\n",
            " [0 0 1 0 2 1 2 0 0 1 1 0 0 0 0 0]\n",
            " [0 0 1 0 1 2 2 0 0 1 0 1 0 0 0 0]\n",
            " [0 0 1 0 2 2 4 1 1 2 2 2 1 1 0 0]\n",
            " [0 0 0 2 0 0 1 4 2 2 1 1 1 1 0 0]\n",
            " [0 0 0 2 0 0 1 2 4 2 1 1 1 1 0 0]\n",
            " [0 0 0 1 1 1 2 2 2 7 1 1 0 0 2 0]\n",
            " [0 0 0 0 1 0 2 1 1 1 2 1 1 1 0 0]\n",
            " [0 0 0 0 0 1 2 1 1 1 1 2 1 1 0 0]\n",
            " [0 0 0 0 0 0 1 1 1 0 1 1 2 2 0 1]\n",
            " [0 0 0 0 0 0 1 1 1 0 1 1 2 2 0 1]\n",
            " [0 0 0 0 0 0 0 0 0 2 0 0 0 0 3 0]\n",
            " [0 0 0 0 0 0 0 0 0 0 0 0 1 1 0 1]]\n",
            "\n",
            "Two Matrices are Identical, reasoning is below.\n",
            "\n",
            "Number of Common Friends 7 and 10 Have: \n",
            "2.0\n",
            "Number of Common Friends 7 and 15 Have: \n",
            "0.0\n",
            "[0 0 1 0 2 2 4 1 1 2 2 2 1 1 0 0]\n",
            "[0 0 0 1 0 0 0 1 1 1 0 0 0 0 0 0]\n",
            "\n",
            "These indexes are neighbors of 7\n",
            "[3 7 8 9]\n",
            "\n",
            "List of all indexes and their common friends with 7: \n",
            "[(0, 0.0), (1, 0.0), (2, 1.0), (3, 0.0), (4, 2.0), (5, 2.0), (6, 4.0), (7, 1.0), (8, 1.0), (9, 2.0), (10, 2.0), (11, 2.0), (12, 1.0), (13, 1.0), (14, 0.0), (15, 0.0)]\n",
            "\n",
            "List of all indexes and their common friends with 7 after removing neighbors: \n",
            "[(0, 0.0), (1, 0.0), (2, 1.0), (4, 2.0), (5, 2.0), (10, 2.0), (11, 2.0), (12, 1.0), (13, 1.0), (14, 0.0), (15, 0.0)]\n",
            "\n",
            "Recommendation list  sorted by decreasing link prediction score, list does not contain user 7 himself and his neighbors\n",
            "[(4, 2.0), (5, 2.0), (10, 2.0), (11, 2.0), (2, 1.0), (12, 1.0), (13, 1.0), (0, 0.0), (1, 0.0), (14, 0.0), (15, 0.0)]\n",
            "\n",
            "Results of the Recommendation Function: \n",
            "user4 > user5 > user10 > user11 > user2 > user12 > user13 > user0 > user1 > user14 > user15 \n"
          ]
        }
      ]
    },
    {
      "cell_type": "markdown",
      "metadata": {
        "id": "eGBc_1seskMn"
      },
      "source": [
        "### 2. Class and Inheretence\n",
        "\n"
      ]
    },
    {
      "cell_type": "code",
      "metadata": {
        "id": "EOGsyePYskMp"
      },
      "source": [
        "# Define a base class called ‘Vehicle’\n",
        "# should have an __init__ function\n",
        "# should have a function to describe the vehicle\n",
        "# should have a function that sets the speed\n",
        "# should have a function that returns the speed \n",
        "# should have a class variable  such as name\n",
        "# should have a instance variable  such as color\n",
        "\n",
        "\n",
        "class Vehicle:\n",
        "    name = \"Vehicle\"\n",
        "\n",
        "    def __init__(self, color, speed, capacity = 1, passengers = []):\n",
        "        self.color = color\n",
        "        self.speed = speed\n",
        "        self.capacity = capacity\n",
        "        self.passengers = passengers\n",
        "\n",
        "    def describe(self):\n",
        "        print(\"Vehicle is of {} color and has {} speed.\".format(self.color, self.speed))\n",
        "\n",
        "    def setSpeed(self, speed):\n",
        "        self.speed = speed\n",
        "\n",
        "    def getSpeed(self):\n",
        "        return self.speed\n",
        "\n",
        "\n",
        "\n",
        "    def addPassenger(self, passenger):\n",
        "        if self.isFull():\n",
        "            print(\"Cannot add more passengers.\")\n",
        "        else:\n",
        "            self.passengers.append(passenger)\n",
        "\n",
        "    def getPassengers(self):\n",
        "        return self.passengers\n",
        "\n",
        "    def passengersOnBoard(self):\n",
        "        return len(self.passengers)\n",
        "\n",
        "    def emptySeats(self):\n",
        "        return self.capacity - len(self.passengers)\n",
        "\n",
        "    def isFull(self):\n",
        "        return len(self.passengers) == self.capacity\n"
      ],
      "execution_count": null,
      "outputs": []
    },
    {
      "cell_type": "code",
      "metadata": {
        "id": "K3uJ-EPmskMs"
      },
      "source": [
        "# Create a subclass of ‘Vehicle’ called ‘Car’\n",
        "# should have a function to describe the car\n",
        "# should have a function returning number of tires\n",
        "# should have a function that returns the speed \n",
        "\n",
        "class Car(Vehicle):\n",
        "\n",
        "    def __init__(self, color, speed, tires, capacity = 4, passengers = []):\n",
        "        super().__init__(color, speed, capacity, passengers)\n",
        "        self.tires = tires\n",
        "    \n",
        "    def describe(self):\n",
        "        print(\"Car is of {} color, with {} tires and has {} speed.\".format(self.color, self.tires, self.speed))\n",
        "\n",
        "    def tireCount(self):\n",
        "        return self.tires"
      ],
      "execution_count": null,
      "outputs": []
    },
    {
      "cell_type": "code",
      "metadata": {
        "id": "fTDkOkqzskMu"
      },
      "source": [
        "# Create a subclass of ‘Vehicle’ called ‘Boat’\n",
        "# should have a function to describe the boat\n",
        "# should have a function that returns the speed \n",
        "# should have a function to  state that the boat can swim\n",
        "\n",
        "class Boat(Vehicle):\n",
        "\n",
        "    def __init__(self, color, speed, swims = True, capacity = 5, passengers = []):\n",
        "        super().__init__(color, speed, capacity, passengers)\n",
        "        self.swims = swims\n",
        "\n",
        "    def describe(self):\n",
        "        print(\"Boat is of {} color and has {} speed.\".format(self.color, self.speed))\n",
        "\n",
        "    def canSwim(self):\n",
        "        print(\"Boat {} swim\".format(\"can\" if self.swims else \"cannot\"))\n"
      ],
      "execution_count": null,
      "outputs": []
    },
    {
      "cell_type": "code",
      "metadata": {
        "id": "osJ4oDLWskMv"
      },
      "source": [
        "# Each Vehicle (Car and Boat) has a passanger capacity\n",
        "# You need to keep names of the passengers\n",
        "# You may be asked to provide the names of passengers\n",
        "# you need to provide number of passenger boarded in a vehicle\n",
        "# You need provide the number of the empty seats in  a vehicle\n",
        "# Create suitable functions and variables in the right classes"
      ],
      "execution_count": null,
      "outputs": []
    },
    {
      "cell_type": "code",
      "metadata": {
        "id": "pvP96SPNskMw",
        "outputId": "611793d0-d446-4716-c36f-faf24a873530"
      },
      "source": [
        "# test your classes and functions \n",
        "# test whether inheretence and overwriting are working\n",
        "# such as:\n",
        "# initiate instances\n",
        "# call instance methods\n",
        "# access and modify instance variables\n",
        "# access and modify class variables\n",
        "# show child classes inherit attributes and behaviors from the parent class\n",
        "# show child classes have specific attributes and behaviors as well\n",
        "\n",
        "car = Car(\"red\", 4, 4)\n",
        "boat = Boat(\"green\", 2, True, capacity=25)\n",
        "\n",
        "car.describe()\n",
        "car.addPassenger(\"Passenger 1\")\n",
        "car.addPassenger(\"Passenger 2\")\n",
        "print(\"Passengers name :\", car.getPassengers())\n",
        "print(\"Number of Passenger \",car.passengersOnBoard())\n",
        "car.isFull()\n",
        "car.name = \"My Car\"\n",
        "print(car.name)\n",
        "print(\"Car has {} tires.\".format(car.tireCount()))\n",
        "\n",
        "\n",
        "boat.name=\"My Boat\"\n",
        "print(\"Boat name :\" ,boat.name)\n",
        "\n",
        "boat.canSwim()\n",
        "\n",
        "\n"
      ],
      "execution_count": null,
      "outputs": [
        {
          "output_type": "stream",
          "name": "stdout",
          "text": "Car is of red color, with 4 tires and has 4 speed.\nPassengers name : ['Passenger 1', 'Passenger 2']\nNumber of Passenger  2\nMy Car\nCar has 4 tires.\nBoat name : My Boat\nBoat can swim\n"
        }
      ]
    },
    {
      "cell_type": "markdown",
      "metadata": {
        "id": "e-6AVnnBskM0"
      },
      "source": [
        "### 3. Containers"
      ]
    },
    {
      "cell_type": "code",
      "metadata": {
        "id": "dRj5nK9BskM2",
        "outputId": "424c29d4-6515-413a-f89c-49b01e6147ff"
      },
      "source": [
        "# Write a function to remove the n'th element from a given list, print the new list.\n",
        "\n",
        "def remove_kth_element(n_list, L):\n",
        "    return  n_list[:L-1] + n_list[L:]\n",
        "\n",
        "n_list = [1,2,3,4,5,6,7,8]\n",
        "print(\"Original list:\", n_list) \n",
        "\n",
        "kth_position = 3\n",
        "result = remove_kth_element(n_list, kth_position)\n",
        "print(\"After removing : \" , result)\n"
      ],
      "execution_count": null,
      "outputs": [
        {
          "output_type": "stream",
          "name": "stdout",
          "text": "Original list: [1, 2, 3, 4, 5, 6, 7, 8]\nAfter removing :  [1, 2, 4, 5, 6, 7, 8]\n"
        }
      ]
    },
    {
      "cell_type": "code",
      "metadata": {
        "id": "lCIk9QeIskM4",
        "outputId": "69e63e7b-8bed-4c20-fc38-5d51e8ff998c"
      },
      "source": [
        "# sort following dictionary values\n",
        "d={'n1': [5, 3, 1], 'n2': [7, 4, 2], 'n3': [9, 3, 6]}\n",
        "\n",
        "\n",
        "sorted_dict = {x: sorted(y) for x, y in d.items()}\n",
        "print(sorted_dict)"
      ],
      "execution_count": null,
      "outputs": [
        {
          "output_type": "stream",
          "name": "stdout",
          "text": "{'n1': [1, 3, 5], 'n2': [2, 4, 7], 'n3': [3, 6, 9]}\n"
        }
      ]
    },
    {
      "cell_type": "code",
      "metadata": {
        "id": "No_ajxt6skM5",
        "outputId": "a6d91ba6-9814-426a-c454-74a05e6e2c57"
      },
      "source": [
        "# find the uniun and intersection of the following sets\n",
        "# find the different elements in set1 from the elements in set2\n",
        "set1 = { 1, 2, 3 , 4}\n",
        "set2 = { 4, 6, 7}\n",
        "\n",
        "\n",
        "\n",
        "setu = set1 | set2\n",
        "print(setu)\n",
        "seti= set1 & set2\n",
        "print(seti)\n",
        "setd= set1-seti\n",
        "print(setd)"
      ],
      "execution_count": null,
      "outputs": [
        {
          "output_type": "stream",
          "name": "stdout",
          "text": "{1, 2, 3, 4, 6, 7}\n{4}\n{1, 2, 3}\n"
        }
      ]
    },
    {
      "cell_type": "markdown",
      "metadata": {
        "id": "p66mWg9_skM6"
      },
      "source": [
        "### 4. Lamda, map and filter"
      ]
    },
    {
      "cell_type": "code",
      "metadata": {
        "id": "dlz3xUm_skM6",
        "outputId": "211438b5-d415-4011-b071-39c774a0bd73"
      },
      "source": [
        "# find prime numbers in numbers by using y.\n",
        "# you need to use lambda and filter functions \n",
        "# be careful, 1 is not prime number\n",
        "numbers = range(1, 100)\n",
        "y=[2,3,5,7]\n",
        "\n",
        "\n",
        "for i in y:\n",
        "    numbers = list(filter(lambda x:( x == i or x % i) and x!=1 , numbers))\n",
        "print (numbers)"
      ],
      "execution_count": null,
      "outputs": [
        {
          "output_type": "stream",
          "name": "stdout",
          "text": "[2, 3, 5, 7, 11, 13, 17, 19, 23, 29, 31, 37, 41, 43, 47, 53, 59, 61, 67, 71, 73, 79, 83, 89, 97]\n"
        }
      ]
    },
    {
      "cell_type": "markdown",
      "metadata": {
        "id": "tblPGFbDskM7"
      },
      "source": [
        "### 5. Numpy"
      ]
    },
    {
      "cell_type": "code",
      "metadata": {
        "id": "K7eveJXiskM8",
        "outputId": "67fff87f-6668-4be2-a689-7937d40c6fb9"
      },
      "source": [
        "# Create an 4x5 numpy array\n",
        "# Compute the weighted average along the specified axis \n",
        "\n",
        "import numpy as np\n",
        "a = np.arange(0,20).reshape((4,5))\n",
        "\n",
        "weights=[1./10, 2./10, 3./10, 4./10]\n",
        "\n",
        "print(\"Original flattened array:\")\n",
        "print(a)\n",
        "print(\"Weighted average along the specified axis of the above flattened array:\")\n",
        "print(np.average(a, axis=0, weights=weights))"
      ],
      "execution_count": null,
      "outputs": [
        {
          "output_type": "stream",
          "name": "stdout",
          "text": "Original flattened array:\n[[ 0  1  2  3  4]\n [ 5  6  7  8  9]\n [10 11 12 13 14]\n [15 16 17 18 19]]\nWeighted average along the specified axis of the above flattened array:\n[10. 11. 12. 13. 14.]\n"
        }
      ]
    },
    {
      "cell_type": "code",
      "metadata": {
        "id": "G8homPl0tsYC"
      },
      "source": [
        ""
      ],
      "execution_count": null,
      "outputs": []
    },
    {
      "cell_type": "code",
      "metadata": {
        "id": "VdrAMKzlR1Pi",
        "colab": {
          "base_uri": "https://localhost:8080/",
          "height": 313
        },
        "outputId": "78fa3127-26fb-4e78-a15f-c440263e5519"
      },
      "source": [
        "# Suppose you have a text that is given under below, counts the number of words in the text by using re and Counter\n",
        "# The Text: coffee, cup, coffee, jar, tea, cup, coffee, jar, cup, jar, tea.\n",
        "# plot histogram of the word numbers in a text that you counted in this text.\n",
        "\n",
        "from collections import Counter\n",
        "import math\n",
        "import matplotlib.pyplot as plt\n",
        "import re\n",
        "\n",
        "text = \"coffee, cup, coffee, jar, tea, cup, coffee, jar, cup, jar, tea\" \n",
        "\n",
        "#eliminate white spaces and commas and divide words\n",
        "ptext=re.sub(r'[^\\w\\s]','',text )\n",
        "words=re.split(r\"[\\s]\",ptext)\n",
        "\n",
        "wordNumber = Counter(word for word in words)\n",
        "print(wordNumber)\n",
        "\n",
        "tickP=[i for i,_ in enumerate(wordNumber.keys())]\n",
        "plt.bar(tickP, wordNumber.values())\n",
        "plt.axis([-1, len(wordNumber), 0, 5])\n",
        "# y-axis from 0 to 5\n",
        "plt.xticks(tickP,[x for x in wordNumber.keys()]) \n",
        "plt.xlabel(\"Words\")\n",
        "plt.ylabel(\"Number of Words\")\n",
        "plt.title(\"Distribution of Words\")\n",
        "plt.show()"
      ],
      "execution_count": 11,
      "outputs": [
        {
          "output_type": "stream",
          "name": "stdout",
          "text": [
            "Counter({'coffee': 3, 'cup': 3, 'jar': 3, 'tea': 2})\n"
          ]
        },
        {
          "output_type": "display_data",
          "data": {
            "image/png": "[encoded data removed]",
            "text/plain": [
              "<Figure size 432x288 with 1 Axes>"
            ]
          },
          "metadata": {
            "needs_background": "light"
          }
        }
      ]
    }
  ]
}