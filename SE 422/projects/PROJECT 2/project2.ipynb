{
  "cells": [
    {
      "cell_type": "markdown",
      "metadata": {
        "id": "c0nG7RMQ8MQ_"
      },
      "source": [
        "<h1><center>SE422 Introduction to Data Science</center></h1> \n",
        "<h2>\n",
        "<center>Project 2\n",
        "<br> \n",
        "09/12/2020\n",
        "</center>\n",
        "</h2> "
      ]
    },
    {
      "cell_type": "markdown",
      "metadata": {
        "id": "xG7Gg8LG8MRA"
      },
      "source": [
        "There are four sections.\n",
        "The total score you can get is 105."
      ]
    },
    {
      "cell_type": "code",
      "execution_count": null,
      "metadata": {
        "id": "CM-m8a_W8MRB"
      },
      "outputs": [],
      "source": [
        "# The solution for this part is from Öktem Demircigil\n",
        "# I like the solution in general, there are other good solutions in the submissions as well"
      ]
    },
    {
      "cell_type": "markdown",
      "metadata": {
        "id": "Bl-TG5lF8MRG"
      },
      "source": [
        "### Section 1 (15 Points)"
      ]
    },
    {
      "cell_type": "code",
      "source": [
        "#Library Imports\n",
        "import scipy.stats\n",
        "import numpy as np\n",
        "import pandas as pd\n",
        "from collections import Counter\n",
        "import math, random\n",
        "from scipy.stats import norm\n",
        "import statistics\n",
        "import itertools"
      ],
      "metadata": {
        "id": "MNGDfsmxAS9o"
      },
      "execution_count": null,
      "outputs": []
    },
    {
      "cell_type": "code",
      "execution_count": null,
      "metadata": {
        "id": "TxobmfWY8MRG"
      },
      "outputs": [],
      "source": [
        "# Use the dataset given below\n",
        "# You do not need to do anything here.\n",
        "# Use X and y\n",
        "from sklearn.datasets import make_regression\n",
        "import matplotlib.pyplot as plt\n",
        "totalValue = sum(int(x) for x in my_id)\n",
        "X, y = make_regression(n_samples=30, n_features=1, noise=10,random_state=totalValue)\n",
        "X=X.reshape(30,)\n"
      ]
    },
    {
      "cell_type": "code",
      "execution_count": null,
      "metadata": {
        "id": "cu9MjhsS8MRH",
        "colab": {
          "base_uri": "https://localhost:8080/",
          "height": 279
        },
        "outputId": "2cbc5e7d-d78b-447f-bc27-4773d1e0172b"
      },
      "outputs": [
        {
          "output_type": "display_data",
          "data": {
            "image/png": "[encoded data removed]",
            "text/plain": [
              "<Figure size 432x288 with 1 Axes>"
            ]
          },
          "metadata": {
            "needs_background": "light"
          }
        }
      ],
      "source": [
        "# plot X and y values to show the relationship between X and y\n",
        "slope, intercept, r, *__ = scipy.stats.linregress(X, y)\n",
        "line = f'Regression line: y={intercept:.2f}+{slope:.2f}x, r={r:.2f}'\n",
        "fig, ax = plt.subplots()\n",
        "ax.plot(X, y, linewidth=0, marker='s', label='Data points')\n",
        "ax.plot(X, intercept + slope * X, label=line)\n",
        "ax.set_xlabel('x')\n",
        "ax.set_ylabel('y')\n",
        "ax.legend(facecolor='white')\n",
        "plt.show()\n"
      ]
    },
    {
      "cell_type": "code",
      "execution_count": null,
      "metadata": {
        "id": "TRs9USpn8MRH",
        "colab": {
          "base_uri": "https://localhost:8080/"
        },
        "outputId": "f5d80e0f-9aaa-4f10-9417-653809897486"
      },
      "outputs": [
        {
          "output_type": "execute_result",
          "data": {
            "text/plain": [
              "array([[6.66641357e-01, 5.67452008e+01],\n",
              "       [5.67452008e+01, 4.94050447e+03]])"
            ]
          },
          "metadata": {},
          "execution_count": 10
        }
      ],
      "source": [
        "# Find covarience for X and y\n",
        "# Analyze the output, you can use comment lines\n",
        "np.cov(X,y)\n",
        "#“large” positive covariance means that x tends to be large when y is large and small when y is small. 5.67 is positive so x and y get both teds to grow.\n",
        "\n"
      ]
    },
    {
      "cell_type": "code",
      "execution_count": null,
      "metadata": {
        "id": "lEJpYkYF8MRH",
        "colab": {
          "base_uri": "https://localhost:8080/"
        },
        "outputId": "76f707b5-f23f-4134-9081-4209a622790c"
      },
      "outputs": [
        {
          "output_type": "execute_result",
          "data": {
            "text/plain": [
              "array([[1.        , 0.98877474],\n",
              "       [0.98877474, 1.        ]])"
            ]
          },
          "metadata": {},
          "execution_count": 11
        }
      ],
      "source": [
        "# Find correlation between X and y.\n",
        "# Analyze the output, you can use comment lines\n",
        "# Plot the corolation matrix\n",
        "np.corrcoef(X,y)\n",
        "# Same as previous plot\n",
        "# 0.98 is our correlation coefficient. It is positive so positive slope and there are true linear dependency. If it was 0 there wold be no linear dependency.\n"
      ]
    },
    {
      "cell_type": "markdown",
      "metadata": {
        "id": "SRBf7yDB8MRI"
      },
      "source": [
        "### Section 2 (30 Points)"
      ]
    },
    {
      "cell_type": "code",
      "execution_count": null,
      "metadata": {
        "id": "pz_JKU158MRI"
      },
      "outputs": [],
      "source": [
        "from collections import Counter\n",
        "import math, random, csv, json, re\n",
        "from bs4 import BeautifulSoup\n",
        "import pandas as pd\n",
        "import matplotlib.pyplot as plt"
      ]
    },
    {
      "cell_type": "code",
      "source": [
        "from google.colab import drive\n",
        "drive.mount('/content/drive')\n"
      ],
      "metadata": {
        "colab": {
          "base_uri": "https://localhost:8080/"
        },
        "id": "XL8H2jC3RAIe",
        "outputId": "bbbdb1a0-ec69-45dc-fc42-f278bf1445e0"
      },
      "execution_count": null,
      "outputs": [
        {
          "output_type": "stream",
          "name": "stdout",
          "text": [
            "Mounted at /content/drive\n"
          ]
        }
      ]
    },
    {
      "cell_type": "code",
      "execution_count": null,
      "metadata": {
        "id": "tkcALtla8MRI"
      },
      "outputs": [],
      "source": [
        "# Load \"books.html\" file to BeautifulSoup\n",
        "# You may need to use \"utf8\" as encoding\n",
        "with open(\"/content/drive/MyDrive/books.html\") as file:\n",
        "    soup = BeautifulSoup(file)\n"
      ]
    },
    {
      "cell_type": "code",
      "execution_count": null,
      "metadata": {
        "id": "FWAPTtoD8MRJ"
      },
      "outputs": [],
      "source": [
        "# Extract the information (\"name\",\"price\",\"nb_in_stock\",\"url_img\",\"product_category\",\"rating\") for each book\n",
        "# Store them into a row list\n",
        "name = []\n",
        "price = []\n",
        "nb_in_stock = []\n",
        "url_img = []\n",
        "product_category = []\n",
        "rating = []\n",
        "\n",
        "\n",
        "table_body=soup.find('tbody')\n",
        "rows = table_body.find_all('tr')\n",
        "for row in rows:\n",
        "    cols=row.find_all('td')\n",
        "    cols=[x.text.strip() for x in cols]\n",
        "    name.append(cols[0])\n",
        "    price.append(cols[1])\n",
        "    nb_in_stock.append(cols[2])\n",
        "    url_img.append(cols[3])\n",
        "    product_category.append(cols[4])\n",
        "    rating.append(cols[5])"
      ]
    },
    {
      "cell_type": "code",
      "execution_count": null,
      "metadata": {
        "id": "lf0qwmjX8MRJ",
        "colab": {
          "base_uri": "https://localhost:8080/"
        },
        "outputId": "2b909fd2-37b6-43fd-fbc3-a7a26c35452e"
      },
      "outputs": [
        {
          "output_type": "stream",
          "name": "stdout",
          "text": [
            "                                    Name  Price  ...              Category Rating\n",
            "0                   A Light in the Attic  44.49  ...             poetry_23  Three\n",
            "1                     Tipping the Velvet  42.11  ...  historical-fiction_4    One\n",
            "2                             Soumission  62.74  ...            fiction_10    One\n",
            "3                          Sharp Objects  49.88  ...             mystery_3   Four\n",
            "4  Sapiens: A Brief History of Humankind  57.15  ...            history_32   Five\n",
            "\n",
            "[5 rows x 6 columns]\n"
          ]
        }
      ],
      "source": [
        "# Create pandas dataframe\n",
        "# Show the first 5 books\n",
        "data = {'Name':name,\n",
        "        'Price':price,\n",
        "        'Stock':nb_in_stock,\n",
        "        'Image Url':url_img,\n",
        "        'Category':product_category,\n",
        "        'Rating':rating}\n",
        "df = pd.DataFrame(data)\n",
        "print(df.head(5))"
      ]
    },
    {
      "cell_type": "markdown",
      "metadata": {
        "id": "DQ8ModEN8MRJ"
      },
      "source": [
        "### Section 3 (30 Points)"
      ]
    },
    {
      "cell_type": "code",
      "execution_count": null,
      "metadata": {
        "id": "a1UGvFuH8MRJ",
        "colab": {
          "base_uri": "https://localhost:8080/"
        },
        "outputId": "cf34e671-c03c-4acb-9756-cac48f6b86a7"
      },
      "outputs": [
        {
          "output_type": "stream",
          "name": "stdout",
          "text": [
            "Mean of Price is  50.44447\n",
            "STD of Price is  10.088036118050928\n",
            "Min of Price is  20.69\n",
            "Max of Price is  82.55\n"
          ]
        }
      ],
      "source": [
        "# Find the metrics (mean, std, min, max) of book prices('price')\n",
        "price = [float(x) for x in price]\n",
        "nb_in_stock = [int(x) for x in nb_in_stock]\n",
        "print(\"Mean of Price is \", np.mean(price))\n",
        "print(\"STD of Price is \", np.std(price))\n",
        "print(\"Min of Price is \", np.min(price))\n",
        "print(\"Max of Price is \", np.max(price))"
      ]
    },
    {
      "cell_type": "code",
      "source": [
        "def normal_cdf(x, mu=0,sigma=1):\n",
        "    return (1 + math.erf((x - mu) / math.sqrt(2) / sigma)) / 2"
      ],
      "metadata": {
        "id": "WdOp1tkl7exD"
      },
      "execution_count": null,
      "outputs": []
    },
    {
      "cell_type": "code",
      "execution_count": null,
      "metadata": {
        "id": "I5joctYI8MRK",
        "colab": {
          "base_uri": "https://localhost:8080/",
          "height": 316
        },
        "outputId": "427b8ebb-1425-4f85-c2f4-2b61455ded1b"
      },
      "outputs": [
        {
          "output_type": "stream",
          "name": "stdout",
          "text": [
            "mu =  50.44447 \n",
            "std =  10.088036118050928\n"
          ]
        },
        {
          "output_type": "display_data",
          "data": {
            "image/png": "[encoded data removed]",
            "text/plain": [
              "<Figure size 432x288 with 1 Axes>"
            ]
          },
          "metadata": {
            "needs_background": "light"
          }
        }
      ],
      "source": [
        "# Plot the histogram of book prices\n",
        "# What kind of distribution does the prices have ?\n",
        "# Analyze the distribution\n",
        "plt.hist(price, bins=25, density=True, alpha=0.6, color='b')\n",
        "mu, std = norm.fit(price)\n",
        "print(\"mu = \",mu,\"\\nstd = \",std)\n",
        "xmin, xmax = plt.xlim()\n",
        "x = np.linspace(xmin, xmax, 100)\n",
        "p = norm.pdf(x, mu, std)\n",
        "plt.plot(x, p, 'k', linewidth=2)\n",
        "title = \"Fit Values: {:.2f} and {:.2f}\".format(mu, std)\n",
        "plt.title(title)\n",
        "plt.show()\n",
        "# This looks like a symetric distrubution\n"
      ]
    },
    {
      "cell_type": "code",
      "execution_count": null,
      "metadata": {
        "id": "Oykrghyr8MRK",
        "colab": {
          "base_uri": "https://localhost:8080/"
        },
        "outputId": "4368f06d-2eec-426f-894b-3e017f61b360"
      },
      "outputs": [
        {
          "name": "stdout",
          "output_type": "stream",
          "text": [
            "Enter repeat number: 5\n",
            "Enter experiment number: 10000\n",
            "0.3 % selected book's price is less than 45.\n",
            "0.3073 % selected book's price is less than 45.\n",
            "0.3005 % selected book's price is less than 45.\n",
            "0.3104 % selected book's price is less than 45.\n",
            "0.3051 % selected book's price is less than 45.\n",
            "Continue(Press Y to continue): \n"
          ]
        }
      ],
      "source": [
        "# What is the probability of the randomly selected book whose price is less than 45.\n",
        "def experiment_probability(test_num):\n",
        "  less_than_num = 0\n",
        "  test_num = test_num\n",
        "\n",
        "  for i in range(test_num):\n",
        "    book_price = random.choice(price)\n",
        "    if book_price < 45 :\n",
        "      less_than_num += 1\n",
        "  print(less_than_num/test_num,\"% selected book's price is less than 45.\")\n",
        "\n",
        "is_continue = \"Y\" or \"y\"\n",
        "while is_continue == \"Y\":\n",
        "  repeat_num = int(input(\"Enter repeat number: \"))\n",
        "  tests = int(input(\"Enter experiment number: \"))\n",
        "  for i in range(repeat_num):\n",
        "    experiment_probability(tests)\n",
        "  is_continue = input(\"Continue(Press Y to continue): \")\n"
      ]
    },
    {
      "cell_type": "code",
      "execution_count": null,
      "metadata": {
        "id": "HsRBFzK28MRK",
        "colab": {
          "base_uri": "https://localhost:8080/",
          "height": 439
        },
        "outputId": "59f96950-4fed-446c-e88b-bcbfa42f2907"
      },
      "outputs": [
        {
          "output_type": "display_data",
          "data": {
            "image/png": "[encoded data removed]",
            "text/plain": [
              "<Figure size 432x288 with 1 Axes>"
            ]
          },
          "metadata": {}
        },
        {
          "name": "stdout",
          "output_type": "stream",
          "text": [
            "Probability Test:\n",
            "\n",
            "Enter repeat number: 5\n",
            "Enter experiment number: 10000\n",
            "1.0 % selected book's stock is less than 0.\n",
            "1.0 % selected book's stock is less than 0.\n",
            "1.0 % selected book's stock is less than 0.\n",
            "1.0 % selected book's stock is less than 0.\n",
            "1.0 % selected book's stock is less than 0.\n",
            "Continue(Press Y to continue): \n"
          ]
        }
      ],
      "source": [
        "# Look at the 'nb_in_stock' values\n",
        "# Plot histogram of the number of books in the stock\n",
        "plt.style.use('ggplot')\n",
        "plt.hist(nb_in_stock,bins=30)\n",
        "plt.show()\n",
        "print(\"Probability Test:\\n\")\n",
        "# What kind of distribution does it have ? \n",
        "\n",
        "# Looks like a uniform distribution\n",
        "\n",
        "# Analyze your findings\n",
        "# What do you think about the probability of the number of books in the stock when we select a book randomly\n",
        "def experiment_probability(test_num):\n",
        "  conform_condi_num = 0\n",
        "\n",
        "  for i in range(test_num):\n",
        "    book_stock = random.choice(nb_in_stock)\n",
        "    if book_stock > 0 :\n",
        "      conform_condi_num += 1\n",
        "  print(conform_condi_num/test_num,\"% selected book's stock is less than 0.\")\n",
        "\n",
        "is_continue = \"Y\" or \"y\"\n",
        "while is_continue == \"Y\":\n",
        "  repeat_num = int(input(\"Enter repeat number: \"))\n",
        "  tests = int(input(\"Enter experiment number: \"))\n",
        "  for i in range(repeat_num):\n",
        "    experiment_probability(tests)\n",
        "  is_continue = input(\"Continue(Press Y to continue): \")\n",
        "\n"
      ]
    },
    {
      "cell_type": "markdown",
      "metadata": {
        "id": "5YTvZTDr8MRK"
      },
      "source": [
        "### Section 4 (30 Points)"
      ]
    },
    {
      "cell_type": "code",
      "execution_count": null,
      "metadata": {
        "id": "jT-_Dkev8MRK",
        "colab": {
          "base_uri": "https://localhost:8080/"
        },
        "outputId": "88e60db9-197a-4336-aaa1-21f28052bb3f"
      },
      "outputs": [
        {
          "output_type": "stream",
          "name": "stdout",
          "text": [
            "         Words  Appearences\n",
            "0          the          632\n",
            "1           of          256\n",
            "2          and          185\n",
            "3            a          165\n",
            "4           to           90\n",
            "...        ...          ...\n",
            "2421      spys            1\n",
            "2422  devotion            1\n",
            "2423   regency            1\n",
            "2424       1st            1\n",
            "2425    womens            1\n",
            "\n",
            "[2426 rows x 2 columns]\n"
          ]
        }
      ],
      "source": [
        "# Count words in the book titles (names)\n",
        "name_string =\"\"\n",
        "delete_list = []\n",
        "for x in name:\n",
        "  name_string += \" \"\n",
        "  name_string += x\n",
        "ptext = re.sub(r'[^\\w\\s]','',name_string )\n",
        "words = re.split(r\"[\\s]\",ptext)\n",
        "words = [x.lower() for x in words]\n",
        "\n",
        "word_counted = Counter(word for word in words)\n",
        "word_counted = dict(sorted(word_counted.items(),key=lambda item: item[1], reverse = True))\n",
        "for x in word_counted.items():\n",
        "  if x[0].isnumeric() or len(x[0]) == 0:\n",
        "    delete_list.append(x[0])\n",
        "  \n",
        "for x in delete_list:\n",
        "  del word_counted[x]\n",
        "\n",
        "\n",
        "\n",
        "word_frame = pd.DataFrame(word_counted.items(),columns=['Words', 'Appearences'])\n",
        "print(word_frame)\n",
        "\n",
        "# There are 1000 books. Therefore, We will use 1000 book titles\n",
        "# You need to find the words and count their apperances in the book titles\n",
        "# For example,  \"Volume\" appears 12 times in the book titles.\n",
        "# You may want to use Counter class \n"
      ]
    },
    {
      "cell_type": "code",
      "execution_count": null,
      "metadata": {
        "id": "7ag9D3Wz8MRL",
        "colab": {
          "base_uri": "https://localhost:8080/"
        },
        "outputId": "1a5cfb87-01eb-40d8-92da-13355ccf487e"
      },
      "outputs": [
        {
          "output_type": "stream",
          "name": "stdout",
          "text": [
            "  Words  Appearences\n",
            "0   the          632\n",
            "1    of          256\n",
            "2   and          185\n",
            "3     a          165\n",
            "4    to           90\n",
            "5    in           71\n",
            "6   for           58\n",
            "7   vol           45\n",
            "8   you           40\n",
            "9  life           37\n"
          ]
        }
      ],
      "source": [
        "# Find the words that appear more than 10 times in the book titles\n",
        "print(word_frame.head(10))\n"
      ]
    },
    {
      "cell_type": "code",
      "execution_count": null,
      "metadata": {
        "id": "KewceNa58MRL",
        "colab": {
          "base_uri": "https://localhost:8080/",
          "height": 299
        },
        "outputId": "92523c85-c31b-4c40-f372-2ea5d5e7d3ba"
      },
      "outputs": [
        {
          "output_type": "display_data",
          "data": {
            "image/png": "[encoded data removed]",
            "text/plain": [
              "<Figure size 432x288 with 1 Axes>"
            ]
          },
          "metadata": {}
        }
      ],
      "source": [
        "# Plot the number of words in the book titles by using plt.bar\n",
        "\n",
        "# I am going to plot only first 15 of them because ploting a table that long is meaningless.\n",
        "\n",
        "out = dict(itertools.islice(word_counted.items(), 15)) \n",
        "plt.bar(out.keys(), out.values())\n",
        "plt.xlabel(\"Words\")\n",
        "plt.ylabel(\"Word Numbers\")\n",
        "plt.title(\"Word Distribution\")\n",
        "plt.show()\n",
        "\n",
        "\n"
      ]
    }
  ],
  "metadata": {
    "kernelspec": {
      "display_name": "Python 3.7.6 64-bit ('base': conda)",
      "language": "python",
      "name": "python37664bitbaseconda577d443e625242c7865f41eec57606b6"
    },
    "language_info": {
      "codemirror_mode": {
        "name": "ipython",
        "version": 3
      },
      "file_extension": ".py",
      "mimetype": "text/x-python",
      "name": "python",
      "nbconvert_exporter": "python",
      "pygments_lexer": "ipython3",
      "version": "3.7.6"
    },
    "colab": {
      "name": "HW2-Öktem Demircigil-17243610012.ipynb",
      "provenance": [],
      "collapsed_sections": []
    }
  },
  "nbformat": 4,
  "nbformat_minor": 0
}